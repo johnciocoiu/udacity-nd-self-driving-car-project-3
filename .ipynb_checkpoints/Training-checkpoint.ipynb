{
 "cells": [
  {
   "cell_type": "code",
   "execution_count": 1,
   "metadata": {
    "collapsed": true
   },
   "outputs": [],
   "source": [
    "import csv\n",
    "import cv2\n",
    "import numpy as np"
   ]
  },
  {
   "cell_type": "code",
   "execution_count": 2,
   "metadata": {
    "collapsed": true
   },
   "outputs": [],
   "source": [
    "def process_image(img):\n",
    "    return img"
   ]
  },
  {
   "cell_type": "code",
   "execution_count": null,
   "metadata": {},
   "outputs": [],
   "source": [
    "rows = []\n",
    "with open('data/internet/driving_log.csv') as csvfile:\n",
    "    reader = csv.reader(csvfile)\n",
    "    for line in reader:\n",
    "        rows.append(line)\n",
    "        \n",
    "car_images = []\n",
    "steering_angles = []\n",
    "\n",
    "first = True\n",
    "\n",
    "steering_correction = 0.2\n",
    "\n",
    "for row in rows:\n",
    "    # Skip header row\n",
    "    if first:\n",
    "        first = False\n",
    "        continue\n",
    "        \n",
    "    for i in range(3):\n",
    "        steering_center = float(row[3])\n",
    "\n",
    "        steering_left = steering_center + steering_correction\n",
    "        steering_right = steering_center - steering_correction\n",
    "\n",
    "        path = \"data/internet/IMG/\"\n",
    "        img_loc = row[i].split('/')[-1]\n",
    "        img = process_image(cv2.imread(path + img_loc))\n",
    "\n",
    "        car_images.append(img)\n",
    "        car_images.append(cv2.flip(img, 1))\n",
    "        \n",
    "        angle = 0\n",
    "        \n",
    "        if i == 0: \n",
    "            angle = steering_center\n",
    "        elif i == 1: \n",
    "            angle = steering_left\n",
    "        elif i == 2:\n",
    "            angle = steering_right\n",
    "        else:\n",
    "            raise Exception('Uhhhm?')\n",
    "        \n",
    "        steering_angles.append(angle)\n",
    "        steering_angles.append(-angle)\n",
    "\n",
    "X_train = np.array(car_images)\n",
    "y_train = np.array(steering_angles)\n",
    "\n",
    "print(\"Done!\")"
   ]
  },
  {
   "cell_type": "code",
   "execution_count": null,
   "metadata": {},
   "outputs": [],
   "source": [
    "X_train"
   ]
  },
  {
   "cell_type": "code",
   "execution_count": null,
   "metadata": {},
   "outputs": [],
   "source": [
    "from keras.models import Sequential\n",
    "from keras.layers import Flatten, Dense, Lambda, Cropping2D, Convolution2D\n",
    "\n",
    "model = Sequential()\n",
    "model.add(Lambda(lambda x: (x / 255.0) - 0.5, input_shape=(160,320,3)))\n",
    "model.add(Cropping2D(cropping=((70,25), (0,0))))\n",
    "model.add(Convolution2D(24,5,5,subsample=(2,2),activation=\"relu\"))\n",
    "model.add(Convolution2D(36,5,5,subsample=(2,2),activation=\"relu\"))\n",
    "model.add(Convolution2D(48,5,5,subsample=(2,2),activation=\"relu\"))\n",
    "model.add(Convolution2D(64,5,5,subsample=(2,2),activation=\"relu\"))\n",
    "model.add(Convolution2D(64,5,5,subsample=(2,2),activation=\"relu\"))\n",
    "model.add(Flatten())\n",
    "model.add(Dense(100))\n",
    "model.add(Dense(50))\n",
    "model.add(Dense(10))\n",
    "model.add(Dense(1))\n",
    "\n",
    "model.compile(loss='mse', optimizer='adam')\n",
    "model.fit(X_train, y_train, validation_split=0.2, shuffle=True, nb_epoch=2)\n",
    "\n",
    "model.save('john_drive.h5')"
   ]
  }
 ],
 "metadata": {
  "kernelspec": {
   "display_name": "Python 3",
   "language": "python",
   "name": "python3"
  },
  "language_info": {
   "codemirror_mode": {
    "name": "ipython",
    "version": 3
   },
   "file_extension": ".py",
   "mimetype": "text/x-python",
   "name": "python",
   "nbconvert_exporter": "python",
   "pygments_lexer": "ipython3",
   "version": "3.5.2"
  },
  "widgets": {
   "state": {},
   "version": "1.1.2"
  }
 },
 "nbformat": 4,
 "nbformat_minor": 2
}
