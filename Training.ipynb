{
 "cells": [
  {
   "cell_type": "code",
   "execution_count": 1,
   "metadata": {
    "collapsed": true
   },
   "outputs": [],
   "source": [
    "import csv\n",
    "import cv2\n",
    "import numpy as np"
   ]
  },
  {
   "cell_type": "code",
   "execution_count": 2,
   "metadata": {
    "collapsed": true
   },
   "outputs": [],
   "source": [
    "def process_image(img):\n",
    "    return img"
   ]
  },
  {
   "cell_type": "code",
   "execution_count": null,
   "metadata": {},
   "outputs": [],
   "source": [
    "rows = []\n",
    "with open('data/internet/driving_log.csv') as csvfile:\n",
    "    reader = csv.reader(csvfile)\n",
    "    for line in reader:\n",
    "        rows.append(line)\n",
    "        \n",
    "car_images = []\n",
    "steering_angles = []\n",
    "\n",
    "first = True\n",
    "\n",
    "steering_correction = 0.2\n",
    "\n",
    "for row in rows:\n",
    "    # Skip header row\n",
    "    if first:\n",
    "        first = False\n",
    "        continue\n",
    "        \n",
    "    for i in range(3):\n",
    "        steering_center = float(row[3])\n",
    "\n",
    "        # create adjusted steering measurements for the side camera images\n",
    "        \n",
    "        steering_left = steering_center + steering_correction\n",
    "        steering_right = steering_center - steering_correction\n",
    "\n",
    "        # read in images from center, left and right cameras\n",
    "        path = \"data/internet/IMG/\" # fill in the path to your training IMG directory\n",
    "        img = process_image(cv2.imread(path + row[i]))\n",
    "\n",
    "        # add images and angles to data set\n",
    "        car_images.append(img)\n",
    "        \n",
    "        if i == 0: \n",
    "            steering_angles.append(steering_center)\n",
    "        elif i == 1: \n",
    "            steering_angles.append(steering_left)\n",
    "        elif i == 2:\n",
    "            steering_angles.append(steering_right)\n",
    "        else:\n",
    "            raise Exception('Uhhhm?')\n",
    "\n",
    "car_images_flipped = car_images\n",
    "steering_angles_flipped = steering_angles\n",
    "\n",
    "for image, measurement in zip(car_images, steering_angles):\n",
    "    car_images_flipped.append(cv2.flip(image, 1))\n",
    "    steering_angles_flipped.append(-measurement)\n",
    "    \n",
    "X_train = np.array(car_images_flipped)\n",
    "y_train = np.array(steering_angles_flipped)\n",
    "\n",
    "print(\"Done!\")"
   ]
  },
  {
   "cell_type": "code",
   "execution_count": 12,
   "metadata": {},
   "outputs": [
    {
     "name": "stdout",
     "output_type": "stream",
     "text": [
      "Train on 6428 samples, validate on 1608 samples\n",
      "Epoch 1/2\n",
      "6428/6428 [==============================] - 10s - loss: 1.8932 - val_loss: 0.9402\n",
      "Epoch 2/2\n",
      "6428/6428 [==============================] - 9s - loss: 1.9406 - val_loss: 2.4724\n"
     ]
    }
   ],
   "source": [
    "from keras.models import Sequential\n",
    "from keras.layers import Flatten, Dense, Lambda, Cropping2D\n",
    "\n",
    "model = Sequential()\n",
    "model.add(Lambda(lambda x: (x / 255.0) - 0.5, input_shape=(160,320,3)))\n",
    "model.add(Cropping2D(cropping=((70,25), (0,0)))\n",
    "model.add(Convolution2D(24,5,5,subsample=(2,2),activation=\"relu\"))\n",
    "model.add(Convolution2D(36,5,5,subsample=(2,2),activation=\"relu\"))\n",
    "model.add(Convolution2D(48,5,5,subsample=(2,2),activation=\"relu\"))\n",
    "model.add(Convolution2D(64,5,5,subsample=(2,2)))\n",
    "model.add(Convolution2D(64,5,5,subsample=(2,2)))\n",
    "model.add(Flatten())\n",
    "model.add(Dense(100))\n",
    "model.add(Dense(50))\n",
    "model.add(Dense(10))\n",
    "\n",
    "model.compile(loss='mse', optimizer='adam')\n",
    "model.fit(X_train, y_train, validation_split=0.2, shuffle=True, nb_epoch=2)\n",
    "\n",
    "model.save('john_drive.h5')"
   ]
  }
 ],
 "metadata": {
  "kernelspec": {
   "display_name": "Python 3",
   "language": "python",
   "name": "python3"
  },
  "language_info": {
   "codemirror_mode": {
    "name": "ipython",
    "version": 3
   },
   "file_extension": ".py",
   "mimetype": "text/x-python",
   "name": "python",
   "nbconvert_exporter": "python",
   "pygments_lexer": "ipython3",
   "version": "3.5.2"
  },
  "widgets": {
   "state": {},
   "version": "1.1.2"
  }
 },
 "nbformat": 4,
 "nbformat_minor": 2
}
